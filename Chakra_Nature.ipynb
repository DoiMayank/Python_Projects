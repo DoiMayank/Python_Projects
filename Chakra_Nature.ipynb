{
  "nbformat": 4,
  "nbformat_minor": 0,
  "metadata": {
    "colab": {
      "name": "Chakra_Nature.ipynb",
      "provenance": [],
      "authorship_tag": "ABX9TyOTlj6rpbTjskQOAYD1dLnK",
      "include_colab_link": true
    },
    "kernelspec": {
      "name": "python3",
      "display_name": "Python 3"
    },
    "language_info": {
      "name": "python"
    }
  },
  "cells": [
    {
      "cell_type": "markdown",
      "metadata": {
        "id": "view-in-github",
        "colab_type": "text"
      },
      "source": [
        "<a href=\"https://colab.research.google.com/github/DoiMayank/Python_Projects/blob/main/Chakra_Nature.ipynb\" target=\"_parent\"><img src=\"https://colab.research.google.com/assets/colab-badge.svg\" alt=\"Open In Colab\"/></a>"
      ]
    },
    {
      "cell_type": "code",
      "execution_count": null,
      "metadata": {
        "id": "SLePsoFQBZ2T"
      },
      "outputs": [],
      "source": [
        "import random\n",
        "def play():\n",
        "  user = input(\"What's your choice of style againist Sasuke?'f' for fire, 'w' for wind, 'l' for lightning, 'e'for earth, 'w' for water\\n\")\n",
        "  sasuke = random.choice(['f','w','l','e','w'])\n",
        "\n",
        "  if user == sasuke:\n",
        "    return'It\\'s a tie'\n",
        "\n",
        "  if is_win(user,sasuke):\n",
        "       return 'You Won!'\n",
        "\n",
        "  return 'You Lost!'\n",
        "\n",
        "def is_win(player,opponent):\n",
        "\n",
        "    if (player == 'f' and opponent == 'w') or (player == 'w' and opponent =='l') or (player =='l' and opponent == 'e')or (player =='e' and opponent == 'w')or (player =='w' and opponent == 'f'):\n",
        "        return True\n",
        "\n",
        "print(play())"
      ]
    },
    {
      "cell_type": "code",
      "source": [
        ""
      ],
      "metadata": {
        "id": "hoh7NO3CYjuE"
      },
      "execution_count": null,
      "outputs": []
    }
  ]
}