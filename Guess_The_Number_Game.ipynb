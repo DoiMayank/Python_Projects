{
  "nbformat": 4,
  "nbformat_minor": 0,
  "metadata": {
    "colab": {
      "name": "Guess The Number Game.ipynb",
      "provenance": [],
      "authorship_tag": "ABX9TyPZzTc9hU2mQRghhixgFh4A",
      "include_colab_link": true
    },
    "kernelspec": {
      "name": "python3",
      "display_name": "Python 3"
    },
    "language_info": {
      "name": "python"
    }
  },
  "cells": [
    {
      "cell_type": "markdown",
      "metadata": {
        "id": "view-in-github",
        "colab_type": "text"
      },
      "source": [
        "<a href=\"https://colab.research.google.com/github/DoiMayank/Python_Projects/blob/main/Guess_The_Number_Game.ipynb\" target=\"_parent\"><img src=\"https://colab.research.google.com/assets/colab-badge.svg\" alt=\"Open In Colab\"/></a>"
      ]
    },
    {
      "cell_type": "code",
      "execution_count": null,
      "metadata": {
        "colab": {
          "base_uri": "https://localhost:8080/"
        },
        "id": "9re5-sU_UTlK",
        "outputId": "6ff57382-655b-42a1-c07d-9d1a6fbc9e11"
      },
      "outputs": [
        {
          "output_type": "stream",
          "name": "stdout",
          "text": [
            "Guess a number between 1 and 100: 25\n",
            "Sorry, guess again. Too low.\n",
            "Guess a number between 1 and 100: 75\n",
            "Sorry, guess again. Too high.\n",
            "Guess a number between 1 and 100: 50\n",
            "Sorry, guess again. Too high.\n",
            "Guess a number between 1 and 100: 35\n",
            "Sorry, guess again. Too high.\n",
            "Guess a number between 1 and 100: 30\n",
            "Sorry, guess again. Too low.\n",
            "Guess a number between 1 and 100: 31\n",
            "Sorry, guess again. Too low.\n",
            "Guess a number between 1 and 100: 34\n",
            "Yay, congrats. You have guessed the number 34 correctly!!\n"
          ]
        }
      ],
      "source": [
        "import random\n",
        "\n",
        "def guess(x):\n",
        "    random_number = random.randint(1, x)\n",
        "    guess = 0\n",
        "    while guess != random_number:\n",
        "        guess = int(input(f'Guess a number between 1 and {x}: '))\n",
        "        if guess < random_number:\n",
        "            print('Sorry, guess again. Too low.')\n",
        "        elif guess > random_number:\n",
        "            print('Sorry, guess again. Too high.')\n",
        "\n",
        "    print(f'Yay, congrats. You have guessed the number {random_number} correctly!!')\n",
        "\n",
        "def computer_guess(x):\n",
        "    low = 1\n",
        "    high = x\n",
        "    feedback = ''\n",
        "    while feedback != 'c':\n",
        "        if low != high:\n",
        "            guess = random.randint(low, high)\n",
        "        else:\n",
        "            guess = low  # could also be high b/c low = high\n",
        "        feedback = input(f'Is {guess} too high (H), too low (L), or correct (C)?? ').lower()\n",
        "        if feedback == 'h':\n",
        "            high = guess - 1\n",
        "        elif feedback == 'l':\n",
        "            low = guess + 1\n",
        "\n",
        "    print(f'Yay! The computer guessed your number, {guess}, correctly!')\n",
        "\n",
        "\n",
        "guess(100)"
      ]
    }
  ]
}