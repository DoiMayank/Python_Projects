{
  "nbformat": 4,
  "nbformat_minor": 0,
  "metadata": {
    "colab": {
      "name": "Madlib.ipynb",
      "provenance": [],
      "authorship_tag": "ABX9TyODwQl82zS1dhtUUugM11HK",
      "include_colab_link": true
    },
    "kernelspec": {
      "name": "python3",
      "display_name": "Python 3"
    },
    "language_info": {
      "name": "python"
    }
  },
  "cells": [
    {
      "cell_type": "markdown",
      "metadata": {
        "id": "view-in-github",
        "colab_type": "text"
      },
      "source": [
        "<a href=\"https://colab.research.google.com/github/DoiMayank/Python_Projects/blob/main/Madlib.ipynb\" target=\"_parent\"><img src=\"https://colab.research.google.com/assets/colab-badge.svg\" alt=\"Open In Colab\"/></a>"
      ]
    },
    {
      "cell_type": "code",
      "execution_count": 6,
      "metadata": {
        "colab": {
          "base_uri": "https://localhost:8080/"
        },
        "id": "wTzxI6698k2y",
        "outputId": "070f16c5-ab63-46f8-dd5c-972d27e52c06"
      },
      "outputs": [
        {
          "output_type": "stream",
          "name": "stdout",
          "text": [
            "AdjectiveAwesome\n",
            "Verb1will power\n",
            "Verb2best\n",
            "Life is a Awesome ! In life you have to succeed with strong will power.I love my life and live it at its best.\n"
          ]
        }
      ],
      "source": [
        "adj =input(\"Adjective\")\n",
        "verb1 =input(\"Verb1\")\n",
        "verb2 =input(\"Verb2\")\n",
        "\n",
        "madlib = f\"Life is a {adj} ! In life you have to succeed with strong {verb1}.I love my life and live it at its {verb2}.\"\n",
        "\n",
        "print(madlib)\n"
      ]
    }
  ]
}